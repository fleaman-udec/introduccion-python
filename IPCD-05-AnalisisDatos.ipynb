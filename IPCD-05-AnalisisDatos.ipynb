{
 "cells": [
  {
   "cell_type": "markdown",
   "metadata": {
    "slideshow": {
     "slide_type": "slide"
    }
   },
   "source": [
    "# Introdución a Python para Ciencia de Datos\n",
    "## Análisis de Datos\n",
    "\n",
    "<center>\n",
    "    <img src=\"figures/python.jpg\" width=\"500\" />\n",
    "</center>"
   ]
  },
  {
   "cell_type": "markdown",
   "metadata": {
    "slideshow": {
     "slide_type": "slide"
    }
   },
   "source": [
    "## Pandas\n",
    "- Manipulación y análisis de datos\n",
    "- https://pandas.pydata.org/"
   ]
  },
  {
   "cell_type": "markdown",
   "metadata": {
    "slideshow": {
     "slide_type": "slide"
    }
   },
   "source": [
    "# Objeto Series"
   ]
  },
  {
   "cell_type": "code",
   "execution_count": 7,
   "metadata": {
    "scrolled": true,
    "slideshow": {
     "slide_type": "subslide"
    }
   },
   "outputs": [
    {
     "name": "stdout",
     "output_type": "stream",
     "text": [
      "0       1\n",
      "1      -3\n",
      "2     5.1\n",
      "3    hola\n",
      "4       6\n",
      "5       8\n",
      "dtype: object\n",
      "[1 -3 5.1 'hola' 6 8]\n"
     ]
    }
   ],
   "source": [
    "import pandas as pd\n",
    "s1 = pd.Series([1, -3, 5.1, 'hola', 6, 8])\n",
    "print(s1)\n",
    "#print(s1.index)\n",
    "#print(s1.index.tolist())\n",
    "print(s1.values)"
   ]
  },
  {
   "cell_type": "code",
   "execution_count": 8,
   "metadata": {
    "scrolled": true,
    "slideshow": {
     "slide_type": "subslide"
    }
   },
   "outputs": [
    {
     "name": "stdout",
     "output_type": "stream",
     "text": [
      "dos       [3, 4]\n",
      "tres         5.1\n",
      "cuatro         8\n",
      "cinco          6\n",
      "seis        chao\n",
      "dtype: object\n",
      "---------\n",
      "animal     1.0\n",
      "peso       8.1\n",
      "tamano    90.0\n",
      "patas      4.0\n",
      "dtype: float64\n",
      "+++ 8.1\n"
     ]
    }
   ],
   "source": [
    "s2 = pd.Series([[3, 4], 5.1, 8, 6, 'chao'], index=['dos','tres','cuatro','cinco','seis',])\n",
    "print(s2)\n",
    "print('---------')\n",
    "s3 = {'animal':1, 'peso':8.1, 'tamano':90, 'patas':4}\n",
    "s3 = pd.Series(s3)\n",
    "print(s3)\n",
    "print('+++', s3['peso'])"
   ]
  },
  {
   "cell_type": "code",
   "execution_count": 10,
   "metadata": {
    "scrolled": true,
    "slideshow": {
     "slide_type": "subslide"
    }
   },
   "outputs": [
    {
     "name": "stdout",
     "output_type": "stream",
     "text": [
      "1) 8.1\n",
      "2) animal    1.0\n",
      "peso      8.1\n",
      "dtype: float64\n",
      "3) 25.775\n",
      "4) animal    1.000000\n",
      "peso      2.846050\n",
      "tamano    9.486833\n",
      "patas     2.000000\n",
      "dtype: float64\n"
     ]
    }
   ],
   "source": [
    "import numpy as np\n",
    "\n",
    "print('1)', s3.iloc[1] )\n",
    "print('2)',  s3.iloc[:2] )\n",
    "print('3)',  s3.mean() )\n",
    "print('4)',  np.sqrt(s3) )"
   ]
  },
  {
   "cell_type": "markdown",
   "metadata": {
    "slideshow": {
     "slide_type": "slide"
    }
   },
   "source": [
    "# Objeto DataFrame"
   ]
  },
  {
   "cell_type": "code",
   "execution_count": 11,
   "metadata": {
    "slideshow": {
     "slide_type": "subslide"
    }
   },
   "outputs": [
    {
     "name": "stdout",
     "output_type": "stream",
     "text": [
      "   lunes  martes  miercoles\n",
      "0      4       9          6\n",
      "1      6       3          7\n",
      "2      9       0          3\n",
      "------\n",
      "0    4\n",
      "1    6\n",
      "2    9\n",
      "Name: lunes, dtype: int64\n",
      "------\n",
      "0    9\n",
      "1    3\n",
      "2    0\n",
      "Name: martes, dtype: int64\n"
     ]
    }
   ],
   "source": [
    "dict1 = {'lunes':[4, 6, 9], 'martes':[9, 3, 0], 'miercoles':[6, 7, 3]}\n",
    "df1 = pd.DataFrame(dict1)\n",
    "print(df1)\n",
    "print('------')\n",
    "print(df1['lunes'])\n",
    "print('------')\n",
    "print(df1.martes)\n"
   ]
  },
  {
   "cell_type": "code",
   "execution_count": 14,
   "metadata": {
    "scrolled": true,
    "slideshow": {
     "slide_type": "subslide"
    }
   },
   "outputs": [
    {
     "name": "stdout",
     "output_type": "stream",
     "text": [
      "        lunes  martes  miercoles\n",
      "casa        4       9          6\n",
      "patio       6       3          7\n",
      "bodega      9       0          3\n",
      "Index(['lunes', 'martes', 'miercoles'], dtype='object')\n",
      "Index(['casa', 'patio', 'bodega'], dtype='object')\n",
      "[[4 9 6]\n",
      " [6 3 7]\n",
      " [9 0 3]]\n"
     ]
    }
   ],
   "source": [
    "df2 = pd.DataFrame(dict1, index=['casa', 'patio', 'bodega'])\n",
    "print(df2)\n",
    "print(df2.columns)\n",
    "print(df2.index)\n",
    "print(df2.values)\n"
   ]
  },
  {
   "cell_type": "code",
   "execution_count": 26,
   "metadata": {
    "slideshow": {
     "slide_type": "subslide"
    }
   },
   "outputs": [
    {
     "name": "stdout",
     "output_type": "stream",
     "text": [
      "        lunes  martes  miercoles  jueves\n",
      "casa        4       9          6       7\n",
      "patio       6       3          7       4\n",
      "bodega      9       0          3       2\n",
      "++++++++++++++++++++\n",
      "lunes        6\n",
      "martes       3\n",
      "miercoles    7\n",
      "jueves       4\n",
      "Name: patio, dtype: int64\n"
     ]
    }
   ],
   "source": [
    "df2['jueves'] = [7, 4, 2]\n",
    "print(df2)\n",
    "print('++++++++++++++++++++')\n",
    "print( df2.iloc[1]) "
   ]
  },
  {
   "cell_type": "markdown",
   "metadata": {
    "slideshow": {
     "slide_type": "slide"
    }
   },
   "source": [
    "# Manejo de DataFrames"
   ]
  },
  {
   "cell_type": "code",
   "execution_count": 28,
   "metadata": {
    "slideshow": {
     "slide_type": "subslide"
    }
   },
   "outputs": [
    {
     "data": {
      "text/html": [
       "<div>\n",
       "<style scoped>\n",
       "    .dataframe tbody tr th:only-of-type {\n",
       "        vertical-align: middle;\n",
       "    }\n",
       "\n",
       "    .dataframe tbody tr th {\n",
       "        vertical-align: top;\n",
       "    }\n",
       "\n",
       "    .dataframe thead th {\n",
       "        text-align: right;\n",
       "    }\n",
       "</style>\n",
       "<table border=\"1\" class=\"dataframe\">\n",
       "  <thead>\n",
       "    <tr style=\"text-align: right;\">\n",
       "      <th></th>\n",
       "      <th>hora</th>\n",
       "      <th>temp</th>\n",
       "      <th>acel</th>\n",
       "    </tr>\n",
       "  </thead>\n",
       "  <tbody>\n",
       "    <tr>\n",
       "      <th>lu</th>\n",
       "      <td>18:00</td>\n",
       "      <td>47.3</td>\n",
       "      <td>{'x': 10, 'y': 12}</td>\n",
       "    </tr>\n",
       "    <tr>\n",
       "      <th>ma</th>\n",
       "      <td>18:00</td>\n",
       "      <td>48.1</td>\n",
       "      <td>{'x': 11, 'y': 13}</td>\n",
       "    </tr>\n",
       "    <tr>\n",
       "      <th>mi</th>\n",
       "      <td>11:00</td>\n",
       "      <td>52.3</td>\n",
       "      <td>{'x': 10, 'y': 12}</td>\n",
       "    </tr>\n",
       "    <tr>\n",
       "      <th>ju</th>\n",
       "      <td>11:00</td>\n",
       "      <td>51.1</td>\n",
       "      <td>{'x': 13, 'y': 13}</td>\n",
       "    </tr>\n",
       "    <tr>\n",
       "      <th>vi</th>\n",
       "      <td>10:00</td>\n",
       "      <td>47.8</td>\n",
       "      <td>{'x': 15, 'y': 17}</td>\n",
       "    </tr>\n",
       "  </tbody>\n",
       "</table>\n",
       "</div>"
      ],
      "text/plain": [
       "     hora  temp                acel\n",
       "lu  18:00  47.3  {'x': 10, 'y': 12}\n",
       "ma  18:00  48.1  {'x': 11, 'y': 13}\n",
       "mi  11:00  52.3  {'x': 10, 'y': 12}\n",
       "ju  11:00  51.1  {'x': 13, 'y': 13}\n",
       "vi  10:00  47.8  {'x': 15, 'y': 17}"
      ]
     },
     "metadata": {},
     "output_type": "display_data"
    }
   ],
   "source": [
    "#dataframe\n",
    "import pandas as pd\n",
    "dic = {'hora': ['18:00', '18:00', '11:00', '11:00', '10:00'], 'temp': [47.3, 48.1, 52.3, 51.1, 47.8], \n",
    "       'acel':[{'x':10, 'y':12}, {'x':11, 'y':13}, {'x':10, 'y':12}, {'x':13, 'y':13}, {'x':15, 'y':17}] }\n",
    "df = pd.DataFrame(dic, index=['lu', 'ma', 'mi', 'ju', 'vi'])\n",
    "display(df)"
   ]
  },
  {
   "cell_type": "code",
   "execution_count": 29,
   "metadata": {
    "slideshow": {
     "slide_type": "subslide"
    }
   },
   "outputs": [
    {
     "name": "stdout",
     "output_type": "stream",
     "text": [
      "lu    47.3\n",
      "ma    48.1\n",
      "mi    52.3\n",
      "ju    51.1\n",
      "vi    47.8\n",
      "Name: temp, dtype: float64\n",
      "+++++\n",
      "<class 'pandas.core.series.Series'>\n",
      "+++++\n",
      "[47.3, 48.1, 52.3, 51.1, 47.8]\n"
     ]
    }
   ],
   "source": [
    "print(df.temp)\n",
    "print('+++++')\n",
    "print(type(df.temp))\n",
    "print('+++++')\n",
    "print(list(df.temp))"
   ]
  },
  {
   "cell_type": "code",
   "execution_count": 30,
   "metadata": {
    "slideshow": {
     "slide_type": "subslide"
    }
   },
   "outputs": [
    {
     "data": {
      "text/html": [
       "<div>\n",
       "<style scoped>\n",
       "    .dataframe tbody tr th:only-of-type {\n",
       "        vertical-align: middle;\n",
       "    }\n",
       "\n",
       "    .dataframe tbody tr th {\n",
       "        vertical-align: top;\n",
       "    }\n",
       "\n",
       "    .dataframe thead th {\n",
       "        text-align: right;\n",
       "    }\n",
       "</style>\n",
       "<table border=\"1\" class=\"dataframe\">\n",
       "  <thead>\n",
       "    <tr style=\"text-align: right;\">\n",
       "      <th></th>\n",
       "      <th>hora</th>\n",
       "      <th>temp</th>\n",
       "      <th>acel</th>\n",
       "    </tr>\n",
       "  </thead>\n",
       "  <tbody>\n",
       "    <tr>\n",
       "      <th>mi</th>\n",
       "      <td>11:00</td>\n",
       "      <td>52.3</td>\n",
       "      <td>{'x': 10, 'y': 12}</td>\n",
       "    </tr>\n",
       "    <tr>\n",
       "      <th>ju</th>\n",
       "      <td>11:00</td>\n",
       "      <td>51.1</td>\n",
       "      <td>{'x': 13, 'y': 13}</td>\n",
       "    </tr>\n",
       "  </tbody>\n",
       "</table>\n",
       "</div>"
      ],
      "text/plain": [
       "     hora  temp                acel\n",
       "mi  11:00  52.3  {'x': 10, 'y': 12}\n",
       "ju  11:00  51.1  {'x': 13, 'y': 13}"
      ]
     },
     "metadata": {},
     "output_type": "display_data"
    }
   ],
   "source": [
    "display( df[df.temp>50.0] )"
   ]
  },
  {
   "cell_type": "code",
   "execution_count": 31,
   "metadata": {
    "slideshow": {
     "slide_type": "subslide"
    }
   },
   "outputs": [
    {
     "data": {
      "text/html": [
       "<div>\n",
       "<style scoped>\n",
       "    .dataframe tbody tr th:only-of-type {\n",
       "        vertical-align: middle;\n",
       "    }\n",
       "\n",
       "    .dataframe tbody tr th {\n",
       "        vertical-align: top;\n",
       "    }\n",
       "\n",
       "    .dataframe thead th {\n",
       "        text-align: right;\n",
       "    }\n",
       "</style>\n",
       "<table border=\"1\" class=\"dataframe\">\n",
       "  <thead>\n",
       "    <tr style=\"text-align: right;\">\n",
       "      <th></th>\n",
       "      <th>hora</th>\n",
       "      <th>temp</th>\n",
       "      <th>acel</th>\n",
       "    </tr>\n",
       "  </thead>\n",
       "  <tbody>\n",
       "    <tr>\n",
       "      <th>ju</th>\n",
       "      <td>11:00</td>\n",
       "      <td>51.1</td>\n",
       "      <td>{'x': 13, 'y': 13}</td>\n",
       "    </tr>\n",
       "  </tbody>\n",
       "</table>\n",
       "</div>"
      ],
      "text/plain": [
       "     hora  temp                acel\n",
       "ju  11:00  51.1  {'x': 13, 'y': 13}"
      ]
     },
     "metadata": {},
     "output_type": "display_data"
    }
   ],
   "source": [
    "display( df[(df.temp>50.0) & (df.temp<52.0)] )"
   ]
  },
  {
   "cell_type": "code",
   "execution_count": 36,
   "metadata": {
    "slideshow": {
     "slide_type": "subslide"
    }
   },
   "outputs": [
    {
     "data": {
      "text/html": [
       "<div>\n",
       "<style scoped>\n",
       "    .dataframe tbody tr th:only-of-type {\n",
       "        vertical-align: middle;\n",
       "    }\n",
       "\n",
       "    .dataframe tbody tr th {\n",
       "        vertical-align: top;\n",
       "    }\n",
       "\n",
       "    .dataframe thead th {\n",
       "        text-align: right;\n",
       "    }\n",
       "</style>\n",
       "<table border=\"1\" class=\"dataframe\">\n",
       "  <thead>\n",
       "    <tr style=\"text-align: right;\">\n",
       "      <th></th>\n",
       "      <th>hora</th>\n",
       "      <th>temp</th>\n",
       "      <th>x</th>\n",
       "      <th>y</th>\n",
       "    </tr>\n",
       "  </thead>\n",
       "  <tbody>\n",
       "    <tr>\n",
       "      <th>lu</th>\n",
       "      <td>18:00</td>\n",
       "      <td>47.3</td>\n",
       "      <td>10</td>\n",
       "      <td>12</td>\n",
       "    </tr>\n",
       "    <tr>\n",
       "      <th>ma</th>\n",
       "      <td>18:00</td>\n",
       "      <td>48.1</td>\n",
       "      <td>11</td>\n",
       "      <td>13</td>\n",
       "    </tr>\n",
       "    <tr>\n",
       "      <th>mi</th>\n",
       "      <td>11:00</td>\n",
       "      <td>52.3</td>\n",
       "      <td>10</td>\n",
       "      <td>12</td>\n",
       "    </tr>\n",
       "    <tr>\n",
       "      <th>ju</th>\n",
       "      <td>11:00</td>\n",
       "      <td>51.1</td>\n",
       "      <td>13</td>\n",
       "      <td>13</td>\n",
       "    </tr>\n",
       "    <tr>\n",
       "      <th>vi</th>\n",
       "      <td>10:00</td>\n",
       "      <td>47.8</td>\n",
       "      <td>15</td>\n",
       "      <td>17</td>\n",
       "    </tr>\n",
       "  </tbody>\n",
       "</table>\n",
       "</div>"
      ],
      "text/plain": [
       "     hora  temp   x   y\n",
       "lu  18:00  47.3  10  12\n",
       "ma  18:00  48.1  11  13\n",
       "mi  11:00  52.3  10  12\n",
       "ju  11:00  51.1  13  13\n",
       "vi  10:00  47.8  15  17"
      ]
     },
     "metadata": {},
     "output_type": "display_data"
    }
   ],
   "source": [
    "aceldf = df.acel.to_dict()\n",
    "aceldf = pd.DataFrame(aceldf)\n",
    "newdf = df.join(aceldf.T)\n",
    "newdf = newdf.drop(columns=['acel'])\n",
    "display(newdf)"
   ]
  },
  {
   "cell_type": "code",
   "execution_count": 37,
   "metadata": {
    "scrolled": false,
    "slideshow": {
     "slide_type": "subslide"
    }
   },
   "outputs": [
    {
     "data": {
      "text/html": [
       "<div>\n",
       "<style scoped>\n",
       "    .dataframe tbody tr th:only-of-type {\n",
       "        vertical-align: middle;\n",
       "    }\n",
       "\n",
       "    .dataframe tbody tr th {\n",
       "        vertical-align: top;\n",
       "    }\n",
       "\n",
       "    .dataframe thead th {\n",
       "        text-align: right;\n",
       "    }\n",
       "</style>\n",
       "<table border=\"1\" class=\"dataframe\">\n",
       "  <thead>\n",
       "    <tr style=\"text-align: right;\">\n",
       "      <th></th>\n",
       "      <th>hora</th>\n",
       "      <th>temp</th>\n",
       "      <th>x</th>\n",
       "      <th>y</th>\n",
       "    </tr>\n",
       "  </thead>\n",
       "  <tbody>\n",
       "    <tr>\n",
       "      <th>mi</th>\n",
       "      <td>11:00</td>\n",
       "      <td>52.3</td>\n",
       "      <td>10</td>\n",
       "      <td>12</td>\n",
       "    </tr>\n",
       "  </tbody>\n",
       "</table>\n",
       "</div>"
      ],
      "text/plain": [
       "     hora  temp   x   y\n",
       "mi  11:00  52.3  10  12"
      ]
     },
     "metadata": {},
     "output_type": "display_data"
    }
   ],
   "source": [
    "display( newdf[(newdf.temp>50.0) & (newdf.y<13)] )"
   ]
  },
  {
   "cell_type": "markdown",
   "metadata": {
    "slideshow": {
     "slide_type": "slide"
    }
   },
   "source": [
    "# Compatibilidad con Excel"
   ]
  },
  {
   "cell_type": "code",
   "execution_count": 51,
   "metadata": {
    "scrolled": true,
    "slideshow": {
     "slide_type": "subslide"
    }
   },
   "outputs": [
    {
     "name": "stderr",
     "output_type": "stream",
     "text": [
      "C:\\Users\\felea\\AppData\\Local\\Temp\\ipykernel_17856\\2914574241.py:1: SettingWithCopyWarning: \n",
      "A value is trying to be set on a copy of a slice from a DataFrame\n",
      "\n",
      "See the caveats in the documentation: https://pandas.pydata.org/pandas-docs/stable/user_guide/indexing.html#returning-a-view-versus-a-copy\n",
      "  newdf.temp[4] = 100\n"
     ]
    },
    {
     "data": {
      "text/html": [
       "<div>\n",
       "<style scoped>\n",
       "    .dataframe tbody tr th:only-of-type {\n",
       "        vertical-align: middle;\n",
       "    }\n",
       "\n",
       "    .dataframe tbody tr th {\n",
       "        vertical-align: top;\n",
       "    }\n",
       "\n",
       "    .dataframe thead th {\n",
       "        text-align: right;\n",
       "    }\n",
       "</style>\n",
       "<table border=\"1\" class=\"dataframe\">\n",
       "  <thead>\n",
       "    <tr style=\"text-align: right;\">\n",
       "      <th></th>\n",
       "      <th>hora</th>\n",
       "      <th>temp</th>\n",
       "      <th>x</th>\n",
       "      <th>y</th>\n",
       "    </tr>\n",
       "  </thead>\n",
       "  <tbody>\n",
       "    <tr>\n",
       "      <th>lu</th>\n",
       "      <td>18:00</td>\n",
       "      <td>47.3</td>\n",
       "      <td>10</td>\n",
       "      <td>12</td>\n",
       "    </tr>\n",
       "    <tr>\n",
       "      <th>ma</th>\n",
       "      <td>18:00</td>\n",
       "      <td>48.1</td>\n",
       "      <td>11</td>\n",
       "      <td>13</td>\n",
       "    </tr>\n",
       "    <tr>\n",
       "      <th>mi</th>\n",
       "      <td>11:00</td>\n",
       "      <td>52.3</td>\n",
       "      <td>10</td>\n",
       "      <td>12</td>\n",
       "    </tr>\n",
       "    <tr>\n",
       "      <th>ju</th>\n",
       "      <td>11:00</td>\n",
       "      <td>51.1</td>\n",
       "      <td>13</td>\n",
       "      <td>13</td>\n",
       "    </tr>\n",
       "    <tr>\n",
       "      <th>vi</th>\n",
       "      <td>10:00</td>\n",
       "      <td>100.0</td>\n",
       "      <td>15</td>\n",
       "      <td>17</td>\n",
       "    </tr>\n",
       "  </tbody>\n",
       "</table>\n",
       "</div>"
      ],
      "text/plain": [
       "     hora   temp   x   y\n",
       "lu  18:00   47.3  10  12\n",
       "ma  18:00   48.1  11  13\n",
       "mi  11:00   52.3  10  12\n",
       "ju  11:00   51.1  13  13\n",
       "vi  10:00  100.0  15  17"
      ]
     },
     "metadata": {},
     "output_type": "display_data"
    }
   ],
   "source": [
    "newdf.temp[4] = 100\n",
    "display(newdf)\n",
    "newdf.to_excel('misdatos.xlsx')"
   ]
  },
  {
   "cell_type": "code",
   "execution_count": 52,
   "metadata": {
    "scrolled": true,
    "slideshow": {
     "slide_type": "subslide"
    }
   },
   "outputs": [
    {
     "data": {
      "text/html": [
       "<div>\n",
       "<style scoped>\n",
       "    .dataframe tbody tr th:only-of-type {\n",
       "        vertical-align: middle;\n",
       "    }\n",
       "\n",
       "    .dataframe tbody tr th {\n",
       "        vertical-align: top;\n",
       "    }\n",
       "\n",
       "    .dataframe thead th {\n",
       "        text-align: right;\n",
       "    }\n",
       "</style>\n",
       "<table border=\"1\" class=\"dataframe\">\n",
       "  <thead>\n",
       "    <tr style=\"text-align: right;\">\n",
       "      <th></th>\n",
       "      <th>hora</th>\n",
       "      <th>temp</th>\n",
       "      <th>x</th>\n",
       "      <th>y</th>\n",
       "    </tr>\n",
       "  </thead>\n",
       "  <tbody>\n",
       "    <tr>\n",
       "      <th>lu</th>\n",
       "      <td>18:00</td>\n",
       "      <td>47.3</td>\n",
       "      <td>10</td>\n",
       "      <td>12</td>\n",
       "    </tr>\n",
       "    <tr>\n",
       "      <th>ma</th>\n",
       "      <td>18:00</td>\n",
       "      <td>48.1</td>\n",
       "      <td>11</td>\n",
       "      <td>13</td>\n",
       "    </tr>\n",
       "    <tr>\n",
       "      <th>mi</th>\n",
       "      <td>11:00</td>\n",
       "      <td>52.3</td>\n",
       "      <td>10</td>\n",
       "      <td>12</td>\n",
       "    </tr>\n",
       "    <tr>\n",
       "      <th>ju</th>\n",
       "      <td>11:00</td>\n",
       "      <td>51.1</td>\n",
       "      <td>13</td>\n",
       "      <td>13</td>\n",
       "    </tr>\n",
       "    <tr>\n",
       "      <th>vi</th>\n",
       "      <td>10:00</td>\n",
       "      <td>100.0</td>\n",
       "      <td>15</td>\n",
       "      <td>17</td>\n",
       "    </tr>\n",
       "  </tbody>\n",
       "</table>\n",
       "</div>"
      ],
      "text/plain": [
       "     hora   temp   x   y\n",
       "lu  18:00   47.3  10  12\n",
       "ma  18:00   48.1  11  13\n",
       "mi  11:00   52.3  10  12\n",
       "ju  11:00   51.1  13  13\n",
       "vi  10:00  100.0  15  17"
      ]
     },
     "metadata": {},
     "output_type": "display_data"
    }
   ],
   "source": [
    "datos = pd.read_excel('misdatos.xlsx', index_col=0)\n",
    "display(datos)"
   ]
  },
  {
   "cell_type": "markdown",
   "metadata": {
    "slideshow": {
     "slide_type": "slide"
    }
   },
   "source": [
    "# Gráficos en Pandas"
   ]
  },
  {
   "cell_type": "code",
   "execution_count": 53,
   "metadata": {
    "scrolled": true,
    "slideshow": {
     "slide_type": "subslide"
    }
   },
   "outputs": [
    {
     "name": "stdout",
     "output_type": "stream",
     "text": [
      "<class 'str'>\n"
     ]
    },
    {
     "data": {
      "image/png": "[encoded data removed]",
      "text/plain": [
       "<Figure size 640x480 with 1 Axes>"
      ]
     },
     "metadata": {},
     "output_type": "display_data"
    }
   ],
   "source": [
    "datos.plot()\n",
    "print( type(datos.hora.iloc[0]) )"
   ]
  },
  {
   "cell_type": "code",
   "execution_count": 54,
   "metadata": {
    "slideshow": {
     "slide_type": "subslide"
    }
   },
   "outputs": [
    {
     "data": {
      "text/plain": [
       "temp       Axes(0.125,0.11;0.227941x0.77)\n",
       "x       Axes(0.398529,0.11;0.227941x0.77)\n",
       "y       Axes(0.672059,0.11;0.227941x0.77)\n",
       "dtype: object"
      ]
     },
     "execution_count": 54,
     "metadata": {},
     "output_type": "execute_result"
    },
    {
     "data": {
      "image/png": "[encoded data removed]",
      "text/plain": [
       "<Figure size 640x480 with 3 Axes>"
      ]
     },
     "metadata": {},
     "output_type": "display_data"
    }
   ],
   "source": [
    "datos.plot(kind='box', subplots=True)"
   ]
  },
  {
   "cell_type": "markdown",
   "metadata": {
    "slideshow": {
     "slide_type": "slide"
    }
   },
   "source": [
    "# ¡Gracias por su atención!"
   ]
  }
 ],
 "metadata": {
  "celltoolbar": "Slideshow",
  "kernelspec": {
   "display_name": "Python 3 (ipykernel)",
   "language": "python",
   "name": "python3"
  },
  "language_info": {
   "codemirror_mode": {
    "name": "ipython",
    "version": 3
   },
   "file_extension": ".py",
   "mimetype": "text/x-python",
   "name": "python",
   "nbconvert_exporter": "python",
   "pygments_lexer": "ipython3",
   "version": "3.11.5"
  }
 },
 "nbformat": 4,
 "nbformat_minor": 4
}
