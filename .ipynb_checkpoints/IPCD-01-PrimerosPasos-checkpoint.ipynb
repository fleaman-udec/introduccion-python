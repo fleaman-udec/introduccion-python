{
 "cells": [
  {
   "cell_type": "markdown",
   "metadata": {
    "slideshow": {
     "slide_type": "slide"
    }
   },
   "source": [
    "# Introdución a Python para Ciencia de Datos\n",
    "## Primeros Pasos\n",
    "\n",
    "<center>\n",
    "    <img src=\"figures/python.jpg\" width=\"500\" />\n",
    "</center>"
   ]
  },
  {
   "cell_type": "markdown",
   "metadata": {
    "slideshow": {
     "slide_type": "slide"
    }
   },
   "source": [
    "# Objetivos de la clase\n",
    "- Conocer del lenguaje de programación Python\n",
    "- Instalar la distribución Anaconda\n",
    "- Ejecutar código desde Jupiter Notebook\n",
    "- Ejecutar código desde la consola de Anaconda"
   ]
  },
  {
   "cell_type": "markdown",
   "metadata": {
    "slideshow": {
     "slide_type": "slide"
    }
   },
   "source": [
    "# Filosofía Python\n",
    "- Bello es mejor que feo.\n",
    "- Explícito es mejor que implícito.\n",
    "- Simple es mejor que complejo.\n",
    "- Complejo es mejor que complicado.\n",
    "- Plano es mejor que anidado.\n",
    "- La legibilidad cuenta.\n",
    "- Lo práctico gana a lo puro.\n",
    "- Los errores nunca deberían dejarse pasar silenciosamente.\n",
    "- A menos que hayan sido silenciados explícitamente."
   ]
  },
  {
   "cell_type": "markdown",
   "metadata": {
    "slideshow": {
     "slide_type": "slide"
    }
   },
   "source": [
    "# Orientado al objeto vs funcional\n",
    "<br>\n",
    "<center>\n",
    "    <img src=\"figures/programming.jpg\" width=\"800\" />\n",
    "</center>"
   ]
  },
  {
   "cell_type": "markdown",
   "metadata": {
    "slideshow": {
     "slide_type": "slide"
    }
   },
   "source": [
    "# Modularidad\n",
    "<br>\n",
    "<center>\n",
    "    <img src=\"figures/modules.jpg\" width=\"800\" />\n",
    "</center>"
   ]
  },
  {
   "cell_type": "markdown",
   "metadata": {
    "slideshow": {
     "slide_type": "slide"
    }
   },
   "source": [
    "# Anaconda\n",
    "Es una distribución (paquete) de Python con los módulos fundamentales\n",
    "<center>\n",
    "    <img src=\"figures/anaconda.jpg\" width=\"1000\" />\n",
    "</center>"
   ]
  },
  {
   "cell_type": "markdown",
   "metadata": {
    "slideshow": {
     "slide_type": "subslide"
    }
   },
   "source": [
    "## Instalación y uso\n",
    "\n",
    "- https://www.anaconda.com/products/individual (Instalar siguiendo opciones por defecto)\n",
    "- Desde Windows: buscar Anaconda Prompt\n",
    "- Dentro de Anaconda Prompt ejecutar \"python <name.py>\", donde <name.py> es el nombre del script a ejecutar\n",
    "- La consola de Anaconda debe estar apuntando al directorio donde está el script <name.py>. \n",
    "- Esto se consigue ejecutando antes el comando \"cd <my.path>\", donde <my.path> es la carpeta de trabajo\n",
    "- El script se puede editar con cualquier editor de texto (Notepad++, Sublime, Visual Studio Code, Spider, etc)\n"
   ]
  },
  {
   "cell_type": "markdown",
   "metadata": {
    "slideshow": {
     "slide_type": "slide"
    }
   },
   "source": [
    "# Jupyter Notebook\n",
    "Es un ambiente computacional  interactivo que soporta los lenguajes de programación: Julia, Python y R.\n",
    "\n",
    "Es para crear documentos tipo cuaderno con celdas de código, de texto (markdown) y otras.\n",
    "\n",
    "<center>\n",
    "    <img src=\"figures/jupyter-1.png\" width=\"700\" />\n",
    "</center>\n",
    "\n",
    "Se realizan impresiones de variables/gráficos dentro del mismo cuaderno.\n"
   ]
  },
  {
   "cell_type": "markdown",
   "metadata": {
    "slideshow": {
     "slide_type": "subslide"
    }
   },
   "source": [
    "## Instalación y uso\n",
    "\n",
    "- Viene incluido dentro de Anaconda.\n",
    "- Desde el Anaconda Prompt se ejecuta \"jupyter notebook\" para abrir el ambiente dentro del explorador web.\n",
    "- Esto abre el ambiente Jupyter usualmente en el directorio C:\\Users\\myuser\n",
    "- Para abrirlo en otro directorio ejecutar antes un cambio de directorio."
   ]
  },
  {
   "cell_type": "code",
   "execution_count": 1,
   "metadata": {
    "scrolled": true,
    "slideshow": {
     "slide_type": "subslide"
    }
   },
   "outputs": [
    {
     "name": "stdout",
     "output_type": "stream",
     "text": [
      "hello world!\n"
     ]
    }
   ],
   "source": [
    "print('hello world!')"
   ]
  },
  {
   "cell_type": "markdown",
   "metadata": {
    "slideshow": {
     "slide_type": "subslide"
    }
   },
   "source": [
    "hello world!"
   ]
  },
  {
   "cell_type": "markdown",
   "metadata": {
    "slideshow": {
     "slide_type": "slide"
    }
   },
   "source": [
    "# ¡Gracias por su atención!"
   ]
  }
 ],
 "metadata": {
  "celltoolbar": "Slideshow",
  "kernelspec": {
   "display_name": "Python 3",
   "language": "python",
   "name": "python3"
  },
  "language_info": {
   "codemirror_mode": {
    "name": "ipython",
    "version": 3
   },
   "file_extension": ".py",
   "mimetype": "text/x-python",
   "name": "python",
   "nbconvert_exporter": "python",
   "pygments_lexer": "ipython3",
   "version": "3.8.5"
  }
 },
 "nbformat": 4,
 "nbformat_minor": 4
}
