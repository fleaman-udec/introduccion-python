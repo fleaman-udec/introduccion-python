{
 "cells": [
  {
   "cell_type": "markdown",
   "metadata": {
    "slideshow": {
     "slide_type": "slide"
    }
   },
   "source": [
    "# Introdución a Python para Ciencia de Datos\n",
    "## Python Numérico\n",
    "\n",
    "<center>\n",
    "    <img src=\"figures/python.jpg\" width=\"500\" />\n",
    "</center>"
   ]
  },
  {
   "cell_type": "markdown",
   "metadata": {
    "slideshow": {
     "slide_type": "slide"
    }
   },
   "source": [
    "# Numpy\n",
    "- Operaciones numéricas básicas con arreglos (arrays) y matrices\n",
    "- https://numpy.org/doc/stable/reference/index.html"
   ]
  },
  {
   "cell_type": "markdown",
   "metadata": {
    "slideshow": {
     "slide_type": "slide"
    }
   },
   "source": [
    "# Creación de arreglos (arrays)"
   ]
  },
  {
   "cell_type": "code",
   "execution_count": 3,
   "metadata": {
    "slideshow": {
     "slide_type": "subslide"
    }
   },
   "outputs": [
    {
     "name": "stdout",
     "output_type": "stream",
     "text": [
      "[5, 7, 9, 11] <class 'list'>\n",
      "[ 5  7  9 11] <class 'numpy.ndarray'>\n",
      "7\n",
      "[ 9 11]\n"
     ]
    }
   ],
   "source": [
    "import numpy as np\n",
    "\n",
    "m = [5, 7, 9, 11]\n",
    "print( m, type(m) )\n",
    "\n",
    "m = np.array(m)\n",
    "print( m, type(m) )\n",
    "\n",
    "print( m[1] )\n",
    "print( m[2:] )"
   ]
  },
  {
   "cell_type": "code",
   "execution_count": 9,
   "metadata": {
    "slideshow": {
     "slide_type": "subslide"
    }
   },
   "outputs": [
    {
     "name": "stdout",
     "output_type": "stream",
     "text": [
      "[[2 4 8]\n",
      " [5 7 9]]\n",
      "4\n",
      "[4 7]\n",
      "[]\n"
     ]
    }
   ],
   "source": [
    "n = np.array( [[2, 4, 8], [5, 7, 9]] )\n",
    "print(n)\n",
    "print(n[0,1])\n",
    "print(n[:,1])\n"
   ]
  },
  {
   "cell_type": "code",
   "execution_count": 16,
   "metadata": {
    "slideshow": {
     "slide_type": "subslide"
    }
   },
   "outputs": [
    {
     "name": "stdout",
     "output_type": "stream",
     "text": [
      "[ 0  1  2  3  4  5  6  7  8  9 10 11 12 13 14 15 16 17 18 19]\n",
      "[ 2.   5.1  8.2 11.3 14.4 17.5]\n",
      "[  1.  12.  23.  34.  45.  56.  67.  78.  89. 100.]\n"
     ]
    }
   ],
   "source": [
    "a = np.arange(20)\n",
    "print(a)\n",
    "\n",
    "b = np.arange(2, 20, 3.1)\n",
    "print(b)\n",
    "\n",
    "c = np.linspace(1, 100, 10)\n",
    "print(c)"
   ]
  },
  {
   "cell_type": "code",
   "execution_count": 18,
   "metadata": {
    "slideshow": {
     "slide_type": "subslide"
    }
   },
   "outputs": [
    {
     "name": "stdout",
     "output_type": "stream",
     "text": [
      "[75 72 66 64  6 99 67 86 83 45 10 75 42 99 84 77 43 44 25 80]\n",
      "[0. 0. 0. 0. 0.]\n",
      "[1. 1. 1. 1. 1.]\n",
      "[[1. 1. 1. 1. 1.]\n",
      " [1. 1. 1. 1. 1.]\n",
      " [1. 1. 1. 1. 1.]\n",
      " [1. 1. 1. 1. 1.]\n",
      " [1. 1. 1. 1. 1.]]\n"
     ]
    }
   ],
   "source": [
    "print( np.random.randint(100, size=(20)) )\n",
    "print( np.zeros(5) )\n",
    "print( np.ones(5) )\n",
    "print( np.ones((5, 5) ))"
   ]
  },
  {
   "cell_type": "markdown",
   "metadata": {
    "slideshow": {
     "slide_type": "slide"
    }
   },
   "source": [
    "# Manejo de arrays"
   ]
  },
  {
   "cell_type": "code",
   "execution_count": 20,
   "metadata": {
    "slideshow": {
     "slide_type": "subslide"
    }
   },
   "outputs": [
    {
     "name": "stdout",
     "output_type": "stream",
     "text": [
      "50\n",
      "1\n",
      "[-3  0  2 11 12 50]\n",
      "[4 2 3 5 0 1]\n"
     ]
    }
   ],
   "source": [
    "u = np.array([12, 50, 0, 2, -3 , 11])\n",
    "\n",
    "print( np.max(u) )\n",
    "print( np.argmax(u) )\n",
    "\n",
    "\n",
    "print( np.sort(u) )\n",
    "print( np.argsort(u) )"
   ]
  },
  {
   "cell_type": "code",
   "execution_count": 21,
   "metadata": {
    "slideshow": {
     "slide_type": "subslide"
    }
   },
   "outputs": [
    {
     "name": "stdout",
     "output_type": "stream",
     "text": [
      "[24  5  0 40  0  5]\n",
      "[ 12  50   0  20 -30   0]\n",
      "4\n"
     ]
    }
   ],
   "source": [
    "u = np.array([12, 5, 0, 2, -3 , 0])\n",
    "w = np.array([24, 1, 0, 40, 0 , 5])\n",
    "\n",
    "print( np.where(u > w, u, w) )\n",
    "print( np.where(u > 10, u, u*10) ) \n",
    "\n",
    "print( np.count_nonzero(u))"
   ]
  },
  {
   "cell_type": "code",
   "execution_count": 22,
   "metadata": {
    "slideshow": {
     "slide_type": "subslide"
    }
   },
   "outputs": [
    {
     "name": "stdout",
     "output_type": "stream",
     "text": [
      "[12  5  0  2 -3 11  4]\n",
      "[12  5  0  2 -3 11 24  1  0 40  0  5]\n",
      "[0, 1, 4, 9]\n"
     ]
    }
   ],
   "source": [
    "u = np.array([12, 5, 0, 2, -3 , 11])\n",
    "w = np.array([24, 1, 0, 40, 0 , 5])\n",
    "\n",
    "print( np.append(u, 4) )\n",
    "print( np.append(u, w) )\n",
    "\n",
    "a = []\n",
    "for i in range(4):\n",
    "    a.append(i**2)\n",
    "print(a)"
   ]
  },
  {
   "cell_type": "code",
   "execution_count": 93,
   "metadata": {
    "scrolled": true,
    "slideshow": {
     "slide_type": "subslide"
    }
   },
   "outputs": [
    {
     "name": "stdout",
     "output_type": "stream",
     "text": [
      "[2 4 8 5 7 9 6 7 0]\n",
      "[[2 4 8]\n",
      " [5 7 9]\n",
      " [6 7 0]]\n"
     ]
    }
   ],
   "source": [
    "a = np.array( [[2, 4, 8], [5, 7, 9]] )\n",
    "b = np.array( [[6, 7, 0]] )\n",
    "\n",
    "print( np.append(a, b) )\n",
    "print( np.concatenate((a, b), axis=0) )"
   ]
  },
  {
   "cell_type": "code",
   "execution_count": 23,
   "metadata": {
    "slideshow": {
     "slide_type": "subslide"
    }
   },
   "outputs": [
    {
     "name": "stdout",
     "output_type": "stream",
     "text": [
      "[32 21]\n",
      "[21 32 39 21]\n"
     ]
    }
   ],
   "source": [
    "x = np.array([10, 21, 32, 39, 21, 11])\n",
    "y = np.array([1, 1, 0, 1, 0, 1])\n",
    "print(x[y == 0])\n",
    "print(x[x > 20])"
   ]
  },
  {
   "cell_type": "markdown",
   "metadata": {
    "slideshow": {
     "slide_type": "slide"
    }
   },
   "source": [
    "# Operaciones algebraicas"
   ]
  },
  {
   "cell_type": "code",
   "execution_count": 25,
   "metadata": {
    "scrolled": true,
    "slideshow": {
     "slide_type": "subslide"
    }
   },
   "outputs": [
    {
     "name": "stdout",
     "output_type": "stream",
     "text": [
      "0.7071067811865476\n",
      "2.0\n",
      "3.0\n",
      "3.0\n"
     ]
    }
   ],
   "source": [
    "print( np.cos( np.deg2rad(45) ) )\n",
    "print( np.log10(100) )\n",
    "print( np.sqrt(9) )\n",
    "print( 9**(1/2) )"
   ]
  },
  {
   "cell_type": "code",
   "execution_count": 32,
   "metadata": {
    "slideshow": {
     "slide_type": "subslide"
    }
   },
   "outputs": [
    {
     "name": "stdout",
     "output_type": "stream",
     "text": [
      "77\n",
      "[[ 5 15 10 15]\n",
      " [ 7 21 14 21]\n",
      " [ 9 27 18 27]\n",
      " [11 33 22 33]]\n"
     ]
    }
   ],
   "source": [
    "m = np.array([5, 7, 9, 11])\n",
    "n = np.array([1, 3, 2, 3])\n",
    "inner = np.inner(m, n)\n",
    "outer = np.outer(m, n)\n",
    "print(inner)\n",
    "print(outer)"
   ]
  },
  {
   "cell_type": "code",
   "execution_count": 40,
   "metadata": {
    "slideshow": {
     "slide_type": "subslide"
    }
   },
   "outputs": [
    {
     "name": "stdout",
     "output_type": "stream",
     "text": [
      "5.0\n",
      "5.0\n",
      "5.0\n",
      "6.0\n"
     ]
    }
   ],
   "source": [
    "print( np.floor(5.6) )\n",
    "print( np.floor(5.1) )\n",
    "\n",
    "print( np.round(5.1) )\n",
    "print( np.round(5.6) )"
   ]
  },
  {
   "cell_type": "code",
   "execution_count": 54,
   "metadata": {
    "slideshow": {
     "slide_type": "subslide"
    }
   },
   "outputs": [
    {
     "name": "stdout",
     "output_type": "stream",
     "text": [
      "[[ 1  4  9]\n",
      " [ 9 25 36]\n",
      " [ 0 25  9]]\n",
      "[[ 7 27 24]\n",
      " [18 61 57]\n",
      " [15 40 39]]\n"
     ]
    }
   ],
   "source": [
    "a = np.array([[1, 2, 3], [3, 5, 6], [0, 5, 3]])\n",
    "print(a*a)\n",
    "a = np.matrix(a)\n",
    "print(a*a)"
   ]
  },
  {
   "cell_type": "markdown",
   "metadata": {
    "slideshow": {
     "slide_type": "slide"
    }
   },
   "source": [
    "# Operaciones numéricas"
   ]
  },
  {
   "cell_type": "code",
   "execution_count": 42,
   "metadata": {
    "slideshow": {
     "slide_type": "subslide"
    }
   },
   "outputs": [],
   "source": [
    "x = np.array([10, 18, 16, 20, 31, 29, 38])\n",
    "y = np.array([0.5, 0.12, 0.14, 0.21, 0.17, 0.68, 0.95])\n",
    "b1, b0 = np.polyfit(x, y, 1) #regresion lineal en numpy\n",
    "b2, b1, b0 = np.polyfit(x, y, 2) #regresion lineal en numpy\n"
   ]
  },
  {
   "cell_type": "code",
   "execution_count": 26,
   "metadata": {
    "slideshow": {
     "slide_type": "subslide"
    }
   },
   "outputs": [
    {
     "name": "stdout",
     "output_type": "stream",
     "text": [
      "[-1.75  1.75 -0.25]\n"
     ]
    }
   ],
   "source": [
    "a = np.array([[1, 2, 3], [3, 5, 6], [0, 5, 3]])\n",
    "b = np.array([1, 2, 8])\n",
    "x = np.linalg.solve(a, b)\n",
    "print(x)"
   ]
  },
  {
   "cell_type": "markdown",
   "metadata": {
    "slideshow": {
     "slide_type": "slide"
    }
   },
   "source": [
    "# Estadística básica"
   ]
  },
  {
   "cell_type": "code",
   "execution_count": 27,
   "metadata": {
    "slideshow": {
     "slide_type": "subslide"
    }
   },
   "outputs": [
    {
     "name": "stdout",
     "output_type": "stream",
     "text": [
      "32\n",
      "5.333333333333333\n",
      "4.533823502911814\n"
     ]
    }
   ],
   "source": [
    "m = np.array([5, 7, 9, 11, 3, -3])\n",
    "print(np.sum(m))\n",
    "print(np.mean(m))\n",
    "print(np.std(m))"
   ]
  },
  {
   "cell_type": "code",
   "execution_count": 28,
   "metadata": {
    "slideshow": {
     "slide_type": "subslide"
    }
   },
   "outputs": [
    {
     "name": "stdout",
     "output_type": "stream",
     "text": [
      "0.49932542644533595\n",
      "4.0\n",
      "7.0\n"
     ]
    }
   ],
   "source": [
    "m = np.array([5, 7, 9, 11, 3, -3, 15])\n",
    "n = np.array([1, 4, 8, 19, 20, 3, 18])\n",
    "\n",
    "print( np.corrcoef(m, n)[0][1] )\n",
    "print( np.quantile(m, 0.25) )\n",
    "print( np.quantile(m, 0.5) )"
   ]
  },
  {
   "cell_type": "markdown",
   "metadata": {
    "slideshow": {
     "slide_type": "slide"
    }
   },
   "source": [
    "# ¡Gracias por su atención!"
   ]
  }
 ],
 "metadata": {
  "celltoolbar": "Slideshow",
  "kernelspec": {
   "display_name": "Python 3 (ipykernel)",
   "language": "python",
   "name": "python3"
  },
  "language_info": {
   "codemirror_mode": {
    "name": "ipython",
    "version": 3
   },
   "file_extension": ".py",
   "mimetype": "text/x-python",
   "name": "python",
   "nbconvert_exporter": "python",
   "pygments_lexer": "ipython3",
   "version": "3.11.5"
  }
 },
 "nbformat": 4,
 "nbformat_minor": 4
}
