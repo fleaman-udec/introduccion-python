{
 "cells": [
  {
   "cell_type": "markdown",
   "metadata": {
    "slideshow": {
     "slide_type": "slide"
    }
   },
   "source": [
    "# Introdución a Python para Ciencia de Datos\n",
    "## Sintaxis Básica\n",
    "\n",
    "<center>\n",
    "    <img src=\"figures/python.jpg\" width=\"500\" />\n",
    "</center>"
   ]
  },
  {
   "cell_type": "markdown",
   "metadata": {
    "slideshow": {
     "slide_type": "slide"
    }
   },
   "source": [
    "# Objetivos de la clase\n",
    "\n",
    "- Realizar asignación de variables y operaciones matemática básicas\n",
    "- Conocer objetos básicos: strings, listas, diccionarios y tuplas\n",
    "- Aprender cómo las operaciones trabajan sobre distintos objetos\n"
   ]
  },
  {
   "cell_type": "markdown",
   "metadata": {
    "slideshow": {
     "slide_type": "slide"
    }
   },
   "source": [
    "# Asignación de variables y listas"
   ]
  },
  {
   "cell_type": "code",
   "execution_count": 2,
   "metadata": {
    "slideshow": {
     "slide_type": "subslide"
    }
   },
   "outputs": [
    {
     "name": "stdout",
     "output_type": "stream",
     "text": [
      "3\n",
      "El resultado es:  6\n",
      "18 0.5\n",
      "esto es texto\n",
      "esto es textoesto es texto\n"
     ]
    }
   ],
   "source": [
    "a = 3\n",
    "b = a + 3\n",
    "c = a*b\n",
    "d = a/b\n",
    "e = 'esto es texto'\n",
    "print(a)\n",
    "print('El resultado es: ', b)\n",
    "print(c, d)\n",
    "print(e)\n",
    "print(e+e)"
   ]
  },
  {
   "cell_type": "code",
   "execution_count": 3,
   "metadata": {
    "slideshow": {
     "slide_type": "subslide"
    }
   },
   "outputs": [
    {
     "name": "stdout",
     "output_type": "stream",
     "text": [
      "perro\n",
      "[1, 2, 4]\n",
      "[1, 2, 4, 'rojo', 'azul', 'verde']\n",
      "rojo\n",
      "azul\n",
      "3\n"
     ]
    }
   ],
   "source": [
    "x = 'perro'\n",
    "y = [1, 2, 4]\n",
    "z = ['rojo', 'azul', 'verde']\n",
    "w = [9, 'amarillo']\n",
    "print(x)\n",
    "print(y)\n",
    "print(y+z)\n",
    "print(z[0])\n",
    "print(z[1])\n",
    "print(len(z))"
   ]
  },
  {
   "cell_type": "markdown",
   "metadata": {
    "slideshow": {
     "slide_type": "slide"
    }
   },
   "source": [
    "# Condicionales (If-else) y bucles (For-while)"
   ]
  },
  {
   "cell_type": "code",
   "execution_count": 12,
   "metadata": {
    "slideshow": {
     "slide_type": "subslide"
    }
   },
   "outputs": [
    {
     "name": "stdout",
     "output_type": "stream",
     "text": [
      "a NO es igual a 2\n"
     ]
    }
   ],
   "source": [
    "# if+else\n",
    "if a == 2:\n",
    "    print('a es igual a 2')\n",
    "else:\n",
    "    print('a NO es igual a 2')"
   ]
  },
  {
   "cell_type": "code",
   "execution_count": 13,
   "metadata": {
    "slideshow": {
     "slide_type": "subslide"
    }
   },
   "outputs": [
    {
     "name": "stdout",
     "output_type": "stream",
     "text": [
      "a es igual a 3\n"
     ]
    }
   ],
   "source": [
    "# if+elif+else\n",
    "if a == 3:\n",
    "    print('a es igual a 3')\n",
    "elif a == 2:\n",
    "    print('a es igual a 2')\n",
    "elif a == 1:\n",
    "    print('a es igual a 1')\n",
    "else:\n",
    "    print('a es igual a otro número')"
   ]
  },
  {
   "cell_type": "code",
   "execution_count": 25,
   "metadata": {
    "slideshow": {
     "slide_type": "subslide"
    }
   },
   "outputs": [
    {
     "name": "stdout",
     "output_type": "stream",
     "text": [
      "+++++primer for\n",
      "rojo\n",
      "azul\n",
      "verde\n",
      "+++++segundo for\n",
      "0\n",
      "1\n",
      "2\n",
      "+++++tercer for\n",
      "rojo\n",
      "azul\n",
      "verde\n"
     ]
    }
   ],
   "source": [
    "# for\n",
    "print('+++++primer for')\n",
    "for element in z:\n",
    "    print(element)\n",
    "\n",
    "print('+++++segundo for')\n",
    "for i in range(len(z)):\n",
    "    print(i)\n",
    "\n",
    "print('+++++tercer for')\n",
    "for i in range(len(z)):\n",
    "    print(z[i])"
   ]
  },
  {
   "cell_type": "code",
   "execution_count": 30,
   "metadata": {
    "slideshow": {
     "slide_type": "subslide"
    }
   },
   "outputs": [
    {
     "name": "stdout",
     "output_type": "stream",
     "text": [
      "+++++primer while\n",
      "0\n",
      "1\n",
      "2\n",
      "3\n",
      "+++++segundo while\n",
      "0\n",
      "1\n",
      "2\n",
      "3\n",
      "4\n",
      "5\n"
     ]
    }
   ],
   "source": [
    "# while\n",
    "print('+++++primer while')\n",
    "a = 0\n",
    "while a <= 3:\n",
    "    print(a)\n",
    "    a = a + 1\n",
    "\n",
    "print('+++++segundo while')\n",
    "a = 0\n",
    "b = 'yes'\n",
    "while b != 'no' and a < 10:\n",
    "    print(a)\n",
    "    a = a + 1\n",
    "    if a == 6:\n",
    "        b = 'no'"
   ]
  },
  {
   "cell_type": "code",
   "execution_count": 35,
   "metadata": {
    "slideshow": {
     "slide_type": "subslide"
    }
   },
   "outputs": [
    {
     "name": "stdout",
     "output_type": "stream",
     "text": [
      "[0, 1, 2, 3, 4, 5, 6, 7, 8, 9]\n",
      "[1, 2]\n",
      "9\n",
      "[2, 3, 4, 5, 6, 7, 8, 9]\n",
      "[0, 1, 2, 3, 4]\n"
     ]
    }
   ],
   "source": [
    "#Indexación de listas\n",
    "a = []\n",
    "for i in range(10):\n",
    "    a = a + [i]\n",
    "print(a)\n",
    "print(a[1:3])\n",
    "print(a[-1])\n",
    "print(a[2:])\n",
    "print(a[:5])"
   ]
  },
  {
   "cell_type": "markdown",
   "metadata": {
    "slideshow": {
     "slide_type": "slide"
    }
   },
   "source": [
    "# Diccionarios y tuplas"
   ]
  },
  {
   "cell_type": "code",
   "execution_count": 16,
   "metadata": {
    "scrolled": true,
    "slideshow": {
     "slide_type": "subslide"
    }
   },
   "outputs": [
    {
     "name": "stdout",
     "output_type": "stream",
     "text": [
      "{'nombre': 'juan', 'edad': 25, 'padres': ['jorge', 'camila'], 'peso': 78}\n",
      "25\n",
      "['jorge', 'camila']\n",
      "26\n",
      "dict_keys(['nombre', 'edad', 'padres', 'peso'])\n",
      "dict_values(['juan', 26, ['jorge', 'camila'], 78])\n"
     ]
    }
   ],
   "source": [
    "# Diccionarios\n",
    "mydict = {'nombre':'juan', 'edad':25, 'padres':['jorge', 'camila'], 'peso':78}\n",
    "print(mydict)\n",
    "print(mydict['edad'])\n",
    "print(mydict['padres'])\n",
    "mydict['edad'] = 26\n",
    "print(mydict['edad'])\n",
    "print(mydict.keys())\n",
    "print(mydict.values())"
   ]
  },
  {
   "cell_type": "code",
   "execution_count": 46,
   "metadata": {
    "slideshow": {
     "slide_type": "subslide"
    }
   },
   "outputs": [
    {
     "name": "stdout",
     "output_type": "stream",
     "text": [
      "1\n",
      "[4, 5]\n"
     ]
    },
    {
     "ename": "TypeError",
     "evalue": "'tuple' object does not support item assignment",
     "output_type": "error",
     "traceback": [
      "\u001b[1;31m---------------------------------------------------------------------------\u001b[0m",
      "\u001b[1;31mTypeError\u001b[0m                                 Traceback (most recent call last)",
      "\u001b[1;32m<ipython-input-46-d19cdc182a9e>\u001b[0m in \u001b[0;36m<module>\u001b[1;34m\u001b[0m\n\u001b[0;32m      3\u001b[0m \u001b[0mprint\u001b[0m\u001b[1;33m(\u001b[0m\u001b[0mtupla\u001b[0m\u001b[1;33m[\u001b[0m\u001b[1;36m0\u001b[0m\u001b[1;33m]\u001b[0m\u001b[1;33m)\u001b[0m\u001b[1;33m\u001b[0m\u001b[1;33m\u001b[0m\u001b[0m\n\u001b[0;32m      4\u001b[0m \u001b[0mprint\u001b[0m\u001b[1;33m(\u001b[0m\u001b[0mtupla\u001b[0m\u001b[1;33m[\u001b[0m\u001b[1;36m2\u001b[0m\u001b[1;33m]\u001b[0m\u001b[1;33m)\u001b[0m\u001b[1;33m\u001b[0m\u001b[1;33m\u001b[0m\u001b[0m\n\u001b[1;32m----> 5\u001b[1;33m \u001b[0mtupla\u001b[0m\u001b[1;33m[\u001b[0m\u001b[1;36m1\u001b[0m\u001b[1;33m]\u001b[0m \u001b[1;33m=\u001b[0m \u001b[1;34m'def'\u001b[0m\u001b[1;33m\u001b[0m\u001b[1;33m\u001b[0m\u001b[0m\n\u001b[0m",
      "\u001b[1;31mTypeError\u001b[0m: 'tuple' object does not support item assignment"
     ]
    }
   ],
   "source": [
    "# Tuplas\n",
    "tupla = (1, 'abc', [4, 5])\n",
    "print(tupla[0])\n",
    "print(tupla[2])\n",
    "tupla[1] = 'def'"
   ]
  },
  {
   "cell_type": "markdown",
   "metadata": {
    "slideshow": {
     "slide_type": "slide"
    }
   },
   "source": [
    "# Funciones personalizadas"
   ]
  },
  {
   "cell_type": "code",
   "execution_count": 5,
   "metadata": {
    "slideshow": {
     "slide_type": "subslide"
    }
   },
   "outputs": [
    {
     "name": "stdout",
     "output_type": "stream",
     "text": [
      "holaholaholahola\n"
     ]
    }
   ],
   "source": [
    "texto = 'hola'\n",
    "numero = 4\n",
    "def myfun(mystr, myint):\n",
    "    return mystr*numero\n",
    "print(myfun(texto, numero))"
   ]
  },
  {
   "cell_type": "code",
   "execution_count": 7,
   "metadata": {
    "slideshow": {
     "slide_type": "subslide"
    }
   },
   "outputs": [
    {
     "name": "stdout",
     "output_type": "stream",
     "text": [
      "False\n",
      "True\n"
     ]
    }
   ],
   "source": [
    "def check_in_list(mylist, myelem):\n",
    "    output = False\n",
    "    for item in mylist:\n",
    "        if item == myelem:\n",
    "            output = True\n",
    "            break\n",
    "    return output\n",
    "\n",
    "mylist = [130, 'hola', -0.56]\n",
    "elem1 = 'chao'\n",
    "elem2 = 130\n",
    "\n",
    "\n",
    "print(check_in_list(mylist, elem1))\n",
    "print(check_in_list(mylist, elem2))"
   ]
  },
  {
   "cell_type": "markdown",
   "metadata": {
    "slideshow": {
     "slide_type": "slide"
    }
   },
   "source": [
    "# Clases, objetos y métodos"
   ]
  },
  {
   "cell_type": "code",
   "execution_count": 1,
   "metadata": {
    "slideshow": {
     "slide_type": "subslide"
    }
   },
   "outputs": [],
   "source": [
    "class Perro:\n",
    "    def __init__(self, nombre, patas): # Este es el metodo que construye el objeto e inicializa sus atributos \n",
    "        self.nombre = nombre\n",
    "        self.patas = patas\n",
    "\n",
    "    def descripcion(self): # Este metodo entrega la descripcion del perro\n",
    "        return self.nombre + ' tiene ' + str(self.patas) + ' patas.'\n",
    "\n",
    "    def ladrar(self, sonido): # Este metodo hace que el perro ladre un sonido\n",
    "        return f'{self.nombre} ladra {sonido}.'"
   ]
  },
  {
   "cell_type": "code",
   "execution_count": 3,
   "metadata": {
    "slideshow": {
     "slide_type": "subslide"
    }
   },
   "outputs": [
    {
     "name": "stdout",
     "output_type": "stream",
     "text": [
      "4\n",
      "Molly tiene 4 patas.\n",
      "Molly ladra guau guau.\n"
     ]
    }
   ],
   "source": [
    "perro1 = Perro('Molly', 4)\n",
    "\n",
    "print( perro1.patas )\n",
    "print( perro1.descripcion() )\n",
    "print( perro1.ladrar('guau guau') )\n"
   ]
  },
  {
   "cell_type": "code",
   "execution_count": 4,
   "metadata": {
    "slideshow": {
     "slide_type": "subslide"
    }
   },
   "outputs": [
    {
     "name": "stdout",
     "output_type": "stream",
     "text": [
      "Rex tiene 3 patas.\n",
      "Rex tiene 4 patas.\n",
      "Molly ladra guau. y Rex ladra wof wof.\n"
     ]
    }
   ],
   "source": [
    "perro2 = Perro('Rex', 3)\n",
    "\n",
    "print( perro2.descripcion() )\n",
    "perro2.patas = 4\n",
    "print( perro2.descripcion() )\n",
    "\n",
    "print( perro1.ladrar('guau') + ' y ' + perro2.ladrar('wof wof') )\n"
   ]
  },
  {
   "cell_type": "markdown",
   "metadata": {
    "slideshow": {
     "slide_type": "slide"
    }
   },
   "source": [
    "# ¡Gracias por su atención!"
   ]
  }
 ],
 "metadata": {
  "celltoolbar": "Slideshow",
  "kernelspec": {
   "display_name": "Python 3 (ipykernel)",
   "language": "python",
   "name": "python3"
  },
  "language_info": {
   "codemirror_mode": {
    "name": "ipython",
    "version": 3
   },
   "file_extension": ".py",
   "mimetype": "text/x-python",
   "name": "python",
   "nbconvert_exporter": "python",
   "pygments_lexer": "ipython3",
   "version": "3.11.5"
  }
 },
 "nbformat": 4,
 "nbformat_minor": 4
}
